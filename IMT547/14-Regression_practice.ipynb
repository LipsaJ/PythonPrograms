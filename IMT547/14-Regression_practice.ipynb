{
 "cells": [
  {
   "cell_type": "markdown",
   "metadata": {},
   "source": [
    "# Understanding Relations between Variables"
   ]
  },
  {
   "cell_type": "code",
   "execution_count": 1,
   "metadata": {},
   "outputs": [],
   "source": [
    "import pandas as pd\n",
    "import seaborn as sns # Import seaborn and matplotlib for visualizing\n",
    "import matplotlib.pyplot as plt\n",
    "import numpy as np"
   ]
  },
  {
   "cell_type": "markdown",
   "metadata": {},
   "source": [
    "## Visualizing variables\n",
    "\n",
    "Before you can run any statistical models, it's usually a good idea to visualize your dataset. \n",
    "\n",
    "Let's first start with the tips dataset that you can find in the seaborn package"
   ]
  },
  {
   "cell_type": "code",
   "execution_count": 2,
   "metadata": {},
   "outputs": [
    {
     "data": {
      "image/png": "[encoded data removed]",
      "text/plain": [
       "<Figure size 432x288 with 1 Axes>"
      ]
     },
     "metadata": {
      "needs_background": "light"
     },
     "output_type": "display_data"
    }
   ],
   "source": [
    "tipdata = sns.load_dataset('tips')\n",
    "sns.scatterplot(x=\"total_bill\", y=\"tip\", \n",
    "                data=tipdata)\n",
    "\n",
    "plt.show() "
   ]
  },
  {
   "cell_type": "code",
   "execution_count": 3,
   "metadata": {},
   "outputs": [
    {
     "data": {
      "text/html": [
       "<div>\n",
       "<style scoped>\n",
       "    .dataframe tbody tr th:only-of-type {\n",
       "        vertical-align: middle;\n",
       "    }\n",
       "\n",
       "    .dataframe tbody tr th {\n",
       "        vertical-align: top;\n",
       "    }\n",
       "\n",
       "    .dataframe thead th {\n",
       "        text-align: right;\n",
       "    }\n",
       "</style>\n",
       "<table border=\"1\" class=\"dataframe\">\n",
       "  <thead>\n",
       "    <tr style=\"text-align: right;\">\n",
       "      <th></th>\n",
       "      <th>total_bill</th>\n",
       "      <th>tip</th>\n",
       "      <th>sex</th>\n",
       "      <th>smoker</th>\n",
       "      <th>day</th>\n",
       "      <th>time</th>\n",
       "      <th>size</th>\n",
       "    </tr>\n",
       "  </thead>\n",
       "  <tbody>\n",
       "    <tr>\n",
       "      <th>0</th>\n",
       "      <td>16.99</td>\n",
       "      <td>1.01</td>\n",
       "      <td>Female</td>\n",
       "      <td>No</td>\n",
       "      <td>Sun</td>\n",
       "      <td>Dinner</td>\n",
       "      <td>2</td>\n",
       "    </tr>\n",
       "    <tr>\n",
       "      <th>1</th>\n",
       "      <td>10.34</td>\n",
       "      <td>1.66</td>\n",
       "      <td>Male</td>\n",
       "      <td>No</td>\n",
       "      <td>Sun</td>\n",
       "      <td>Dinner</td>\n",
       "      <td>3</td>\n",
       "    </tr>\n",
       "    <tr>\n",
       "      <th>2</th>\n",
       "      <td>21.01</td>\n",
       "      <td>3.50</td>\n",
       "      <td>Male</td>\n",
       "      <td>No</td>\n",
       "      <td>Sun</td>\n",
       "      <td>Dinner</td>\n",
       "      <td>3</td>\n",
       "    </tr>\n",
       "    <tr>\n",
       "      <th>3</th>\n",
       "      <td>23.68</td>\n",
       "      <td>3.31</td>\n",
       "      <td>Male</td>\n",
       "      <td>No</td>\n",
       "      <td>Sun</td>\n",
       "      <td>Dinner</td>\n",
       "      <td>2</td>\n",
       "    </tr>\n",
       "    <tr>\n",
       "      <th>4</th>\n",
       "      <td>24.59</td>\n",
       "      <td>3.61</td>\n",
       "      <td>Female</td>\n",
       "      <td>No</td>\n",
       "      <td>Sun</td>\n",
       "      <td>Dinner</td>\n",
       "      <td>4</td>\n",
       "    </tr>\n",
       "  </tbody>\n",
       "</table>\n",
       "</div>"
      ],
      "text/plain": [
       "   total_bill   tip     sex smoker  day    time  size\n",
       "0       16.99  1.01  Female     No  Sun  Dinner     2\n",
       "1       10.34  1.66    Male     No  Sun  Dinner     3\n",
       "2       21.01  3.50    Male     No  Sun  Dinner     3\n",
       "3       23.68  3.31    Male     No  Sun  Dinner     2\n",
       "4       24.59  3.61  Female     No  Sun  Dinner     4"
      ]
     },
     "execution_count": 3,
     "metadata": {},
     "output_type": "execute_result"
    }
   ],
   "source": [
    "tipdata.head()"
   ]
  },
  {
   "cell_type": "markdown",
   "metadata": {},
   "source": [
    "### Drawing trend line\n",
    "Now, let's draw a trend line calculated using linear regression. \n",
    "\n",
    "You can use seaborn's `regplot` for this: https://seaborn.pydata.org/generated/seaborn.regplot.html"
   ]
  },
  {
   "cell_type": "code",
   "execution_count": 4,
   "metadata": {},
   "outputs": [
    {
     "data": {
      "image/png": "[encoded data removed]",
      "text/plain": [
       "<Figure size 432x288 with 1 Axes>"
      ]
     },
     "metadata": {
      "needs_background": "light"
     },
     "output_type": "display_data"
    }
   ],
   "source": [
    "sns.regplot(x=\"total_bill\", y=\"tip\", \n",
    "            data=tipdata)\n",
    "# Show the plot\n",
    "plt.show()"
   ]
  },
  {
   "cell_type": "code",
   "execution_count": 6,
   "metadata": {},
   "outputs": [
    {
     "data": {
      "image/png": "[encoded data removed]",
      "text/plain": [
       "<Figure size 432x288 with 1 Axes>"
      ]
     },
     "metadata": {
      "needs_background": "light"
     },
     "output_type": "display_data"
    }
   ],
   "source": [
    "sns.regplot(x=\"total_bill\", y=\"tip\", \n",
    "            data=tipdata,\n",
    "           ci = None,\n",
    "           scatter_kws={'alpha':0.2})\n",
    "# Show the plot\n",
    "plt.show()"
   ]
  },
  {
   "cell_type": "markdown",
   "metadata": {},
   "source": [
    "#### Visualizing some more variables\n",
    "\n",
    "Here, you'll look at the relationship between house price per area and the number of nearby convenience stores using the Taiwan real estate dataset.\n",
    "\n",
    "One challenge in this dataset is that the number of convenience stores contains integer data, causing points to overlap. To solve this, you will make the points transparent."
   ]
  },
  {
   "cell_type": "code",
   "execution_count": 7,
   "metadata": {},
   "outputs": [],
   "source": [
    "# let's load the data as a pandas dataframe\n",
    "taiwan_real_estate = pd.read_csv('taiwan_real_estate2.csv')"
   ]
  },
  {
   "cell_type": "code",
   "execution_count": 9,
   "metadata": {},
   "outputs": [
    {
     "data": {
      "text/html": [
       "<div>\n",
       "<style scoped>\n",
       "    .dataframe tbody tr th:only-of-type {\n",
       "        vertical-align: middle;\n",
       "    }\n",
       "\n",
       "    .dataframe tbody tr th {\n",
       "        vertical-align: top;\n",
       "    }\n",
       "\n",
       "    .dataframe thead th {\n",
       "        text-align: right;\n",
       "    }\n",
       "</style>\n",
       "<table border=\"1\" class=\"dataframe\">\n",
       "  <thead>\n",
       "    <tr style=\"text-align: right;\">\n",
       "      <th></th>\n",
       "      <th>dist_to_mrt_m</th>\n",
       "      <th>n_convenience</th>\n",
       "      <th>house_age_years</th>\n",
       "      <th>price_twd_msq</th>\n",
       "    </tr>\n",
       "  </thead>\n",
       "  <tbody>\n",
       "    <tr>\n",
       "      <th>0</th>\n",
       "      <td>84.87882</td>\n",
       "      <td>10</td>\n",
       "      <td>30 to 45</td>\n",
       "      <td>11.467474</td>\n",
       "    </tr>\n",
       "    <tr>\n",
       "      <th>1</th>\n",
       "      <td>306.59470</td>\n",
       "      <td>9</td>\n",
       "      <td>15 to 30</td>\n",
       "      <td>12.768533</td>\n",
       "    </tr>\n",
       "    <tr>\n",
       "      <th>2</th>\n",
       "      <td>561.98450</td>\n",
       "      <td>5</td>\n",
       "      <td>0 to 15</td>\n",
       "      <td>14.311649</td>\n",
       "    </tr>\n",
       "    <tr>\n",
       "      <th>3</th>\n",
       "      <td>561.98450</td>\n",
       "      <td>5</td>\n",
       "      <td>0 to 15</td>\n",
       "      <td>16.580938</td>\n",
       "    </tr>\n",
       "    <tr>\n",
       "      <th>4</th>\n",
       "      <td>390.56840</td>\n",
       "      <td>5</td>\n",
       "      <td>0 to 15</td>\n",
       "      <td>13.040847</td>\n",
       "    </tr>\n",
       "  </tbody>\n",
       "</table>\n",
       "</div>"
      ],
      "text/plain": [
       "   dist_to_mrt_m  n_convenience house_age_years  price_twd_msq\n",
       "0       84.87882             10        30 to 45      11.467474\n",
       "1      306.59470              9        15 to 30      12.768533\n",
       "2      561.98450              5         0 to 15      14.311649\n",
       "3      561.98450              5         0 to 15      16.580938\n",
       "4      390.56840              5         0 to 15      13.040847"
      ]
     },
     "execution_count": 9,
     "metadata": {},
     "output_type": "execute_result"
    }
   ],
   "source": [
    "taiwan_real_estate.head()"
   ]
  },
  {
   "cell_type": "markdown",
   "metadata": {},
   "source": [
    "**TODO**: Your task is to first visualize the two numeric variables before starting to model anything\n",
    "\n",
    "Using taiwan_real_estate, draw a scatter plot of `price_twd_msq` (y-axis) versus `n_convenience` (x-axis).\n",
    "\n",
    "Checkout seaborn's `scatterplot`: https://seaborn.pydata.org/generated/seaborn.scatterplot.html"
   ]
  },
  {
   "cell_type": "code",
   "execution_count": 13,
   "metadata": {},
   "outputs": [
    {
     "data": {
      "image/png": "[encoded data removed]",
      "text/plain": [
       "<Figure size 432x288 with 1 Axes>"
      ]
     },
     "metadata": {
      "needs_background": "light"
     },
     "output_type": "display_data"
    }
   ],
   "source": [
    "# Your code below. Fill it in\n",
    "# Draw the scatter plot\n",
    "sns.scatterplot(data=taiwan_real_estate, x=\"price_twd_msq\", y=\"n_convenience\")\n",
    "\n",
    "# Show the plot\n",
    "plt.show()"
   ]
  },
  {
   "cell_type": "code",
   "execution_count": 14,
   "metadata": {},
   "outputs": [
    {
     "data": {
      "image/png": "[encoded data removed]",
      "text/plain": [
       "<Figure size 432x288 with 1 Axes>"
      ]
     },
     "metadata": {
      "needs_background": "light"
     },
     "output_type": "display_data"
    }
   ],
   "source": [
    "# Your code below. Filled in\n",
    "# Draw the scatter plot\n",
    "sns.scatterplot(x=\"n_convenience\",\n",
    "                y=\"price_twd_msq\",\n",
    "                data=taiwan_real_estate)\n",
    "\n",
    "# Plot it\n",
    "plt.show()"
   ]
  },
  {
   "cell_type": "markdown",
   "metadata": {},
   "source": [
    "### Drawing trend line\n",
    "Now, let's draw a trend line calculated using linear regression. \n",
    "\n",
    "You can use seaborn's `regplot` for this: https://seaborn.pydata.org/generated/seaborn.regplot.html"
   ]
  },
  {
   "cell_type": "code",
   "execution_count": 17,
   "metadata": {
    "scrolled": true
   },
   "outputs": [
    {
     "data": {
      "image/png": "[encoded data removed]",
      "text/plain": [
       "<Figure size 432x288 with 1 Axes>"
      ]
     },
     "metadata": {
      "needs_background": "light"
     },
     "output_type": "display_data"
    }
   ],
   "source": [
    "# Draw a trend line on the scatter plot of price_twd_msq vs. n_convenience \n",
    "sns.regplot(x=\"n_convenience\",\n",
    "            y=\"price_twd_msq\",\n",
    "            data=taiwan_real_estate,\n",
    "            ci=None, #omitting confidence interval here\n",
    "            scatter_kws={'alpha': 0.5}) #The scatter_kws argument makes the data points 50% transparent.\n",
    "\n",
    "# Show the plot\n",
    "plt.show()"
   ]
  },
  {
   "cell_type": "markdown",
   "metadata": {},
   "source": [
    "<span class=\"girk\">Lab part 2</span>"
   ]
  },
  {
   "cell_type": "markdown",
   "metadata": {},
   "source": [
    "### Linear regression with statsmodel\n",
    "\n",
    "While `sns.regplot()` can display a linear regression trend line, it doesn't give you access to the intercept and slope as variables, or allow you to work with the model results as variables.\n",
    "\n",
    "Let's use statsmodel to run your regression model.\n",
    "\n",
    "Read statsmodel documentation for linear regression:\n",
    "* https://www.statsmodels.org/stable/index.html\n",
    "* https://www.statsmodels.org/stable/regression.html\n",
    "\n",
    "**STEPS**\n",
    "* Import the `ols()` function from the statsmodels.formula.api package.\n",
    "* Run a linear regression with price_twd_msq as the response variable, n_convenience as the explanatory variable, and taiwan_real_estate as the dataset. Name it mdl_price_vs_conv.\n",
    "* Fit the model.\n",
    "* Print the parameters of the fitted model."
   ]
  },
  {
   "cell_type": "code",
   "execution_count": 18,
   "metadata": {},
   "outputs": [
    {
     "name": "stdout",
     "output_type": "stream",
     "text": [
      "Intercept        8.224237\n",
      "n_convenience    0.798080\n",
      "dtype: float64\n"
     ]
    }
   ],
   "source": [
    "# Import the ols function\n",
    "from statsmodels.formula.api import ols\n",
    "\n",
    "# Create the model object\n",
    "mdl_price_vs_conv = ols(\"price_twd_msq ~ n_convenience\", data=taiwan_real_estate)\n",
    "\n",
    "# Fit the model\n",
    "mdl_price_vs_conv = mdl_price_vs_conv.fit()\n",
    "\n",
    "# Extract and Print the parameters of the fitted model\n",
    "print(mdl_price_vs_conv.params)"
   ]
  },
  {
   "cell_type": "markdown",
   "metadata": {},
   "source": [
    "#### Interpreting the intercept\n",
    "\n",
    "The model had an Intercept coefficient of 8.2242. What does this mean?\n",
    "\n",
    "Possible Answers\n",
    "\n",
    "* a). On average, houses had a price of 8.2242 TWD per square meter.\n",
    "* b). On average, a house with zero convenience stores nearby had a price of 8.2242 TWD per square meter.\n",
    "* c). The minimum house price was 8.2242 TWD per square meter.\n",
    "* d). The minimum house price with zero convenience stores nearby was 8.2242 TWD per square meter.\n",
    "* e). The intercept tells you nothing about house prices.\n"
   ]
  },
  {
   "cell_type": "markdown",
   "metadata": {},
   "source": [
    "**Your response below**\n",
    "\n",
    "Correct response: (b).\n"
   ]
  },
  {
   "cell_type": "markdown",
   "metadata": {},
   "source": [
    "#### Interpreting the slope\n",
    "\n",
    "The model had an n_convenience coefficient of 0.7981. What does this mean?\n",
    "\n",
    "Possible Answers\n",
    "\n",
    "* a). If you increase the number of nearby convenience stores by one, then the expected increase in house price is 0.7981 TWD per square meter.\n",
    "* b). If you increase the house price by 0.7981 TWD per square meter, then the expected increase in the number of nearby convenience stores is one.\n",
    "* c). If you increase the number of nearby convenience stores by 0.7981, then the expected increase in house price is one TWD per square meter.\n",
    "* d). If you increase the house price by one TWD per square meter, then the expected increase in the number of nearby convenience stores is 0.7981.\n",
    "* e). The n_convenience coefficient tells you nothing about house prices.\n"
   ]
  },
  {
   "cell_type": "markdown",
   "metadata": {},
   "source": [
    "**Your response below**\n",
    "\n",
    "Correct response: (a)."
   ]
  },
  {
   "cell_type": "markdown",
   "metadata": {},
   "source": [
    "<span class=\"girk\">Lab part 3</span>"
   ]
  },
  {
   "cell_type": "markdown",
   "metadata": {},
   "source": [
    "## Working with model object\n",
    "\n",
    "**fittedvalues** attributes: predictions on the original dataset "
   ]
  },
  {
   "cell_type": "code",
   "execution_count": 19,
   "metadata": {
    "scrolled": true
   },
   "outputs": [
    {
     "name": "stdout",
     "output_type": "stream",
     "text": [
      "0      16.205035\n",
      "1      15.406955\n",
      "2      12.214636\n",
      "3      12.214636\n",
      "4      12.214636\n",
      "         ...    \n",
      "409     8.224237\n",
      "410    15.406955\n",
      "411    13.810795\n",
      "412    12.214636\n",
      "413    15.406955\n",
      "Length: 414, dtype: float64\n"
     ]
    }
   ],
   "source": [
    "print(mdl_price_vs_conv.fittedvalues)"
   ]
  },
  {
   "cell_type": "code",
   "execution_count": 20,
   "metadata": {},
   "outputs": [
    {
     "data": {
      "text/plain": [
       "(414, 4)"
      ]
     },
     "execution_count": 20,
     "metadata": {},
     "output_type": "execute_result"
    }
   ],
   "source": [
    "taiwan_real_estate.shape"
   ]
  },
  {
   "cell_type": "code",
   "execution_count": 21,
   "metadata": {},
   "outputs": [
    {
     "name": "stdout",
     "output_type": "stream",
     "text": [
      "0      16.205035\n",
      "1      15.406955\n",
      "2      12.214636\n",
      "3      12.214636\n",
      "4      12.214636\n",
      "         ...    \n",
      "409     8.224237\n",
      "410    15.406955\n",
      "411    13.810795\n",
      "412    12.214636\n",
      "413    15.406955\n",
      "Length: 414, dtype: float64\n"
     ]
    }
   ],
   "source": [
    "explanatory_data = taiwan_real_estate[\"n_convenience\"]\n",
    "print(mdl_price_vs_conv.predict(explanatory_data))"
   ]
  },
  {
   "cell_type": "markdown",
   "metadata": {},
   "source": [
    "#### Residuals\n",
    "actual response value - predicted response values."
   ]
  },
  {
   "cell_type": "code",
   "execution_count": 22,
   "metadata": {},
   "outputs": [
    {
     "name": "stdout",
     "output_type": "stream",
     "text": [
      "0     -4.737561\n",
      "1     -2.638422\n",
      "2      2.097013\n",
      "3      4.366302\n",
      "4      0.826211\n",
      "         ...   \n",
      "409   -3.564631\n",
      "410   -0.278362\n",
      "411   -1.526378\n",
      "412    3.670387\n",
      "413    3.927387\n",
      "Length: 414, dtype: float64\n"
     ]
    }
   ],
   "source": [
    "print(mdl_price_vs_conv.resid)"
   ]
  },
  {
   "cell_type": "code",
   "execution_count": 23,
   "metadata": {},
   "outputs": [
    {
     "name": "stdout",
     "output_type": "stream",
     "text": [
      "                            OLS Regression Results                            \n",
      "==============================================================================\n",
      "Dep. Variable:          price_twd_msq   R-squared:                       0.326\n",
      "Model:                            OLS   Adj. R-squared:                  0.324\n",
      "Method:                 Least Squares   F-statistic:                     199.3\n",
      "Date:                Tue, 16 Feb 2021   Prob (F-statistic):           3.41e-37\n",
      "Time:                        09:52:10   Log-Likelihood:                -1091.1\n",
      "No. Observations:                 414   AIC:                             2186.\n",
      "Df Residuals:                     412   BIC:                             2194.\n",
      "Df Model:                           1                                         \n",
      "Covariance Type:            nonrobust                                         \n",
      "=================================================================================\n",
      "                    coef    std err          t      P>|t|      [0.025      0.975]\n",
      "---------------------------------------------------------------------------------\n",
      "Intercept         8.2242      0.285     28.857      0.000       7.664       8.784\n",
      "n_convenience     0.7981      0.057     14.118      0.000       0.687       0.909\n",
      "==============================================================================\n",
      "Omnibus:                      171.927   Durbin-Watson:                   1.993\n",
      "Prob(Omnibus):                  0.000   Jarque-Bera (JB):             1417.242\n",
      "Skew:                           1.553   Prob(JB):                    1.78e-308\n",
      "Kurtosis:                      11.516   Cond. No.                         8.87\n",
      "==============================================================================\n",
      "\n",
      "Notes:\n",
      "[1] Standard Errors assume that the covariance matrix of the errors is correctly specified.\n"
     ]
    }
   ],
   "source": [
    "# Inspect the results\n",
    "print(mdl_price_vs_conv.summary())"
   ]
  },
  {
   "cell_type": "markdown",
   "metadata": {},
   "source": [
    "### Predicting\n",
    "\n",
    "You can manually calculate the predictions from the model coefficients. When making predictions in real life, it is better to use `.predict()`, but doing this manually is helpful to reassure yourself that predictions aren't magic - they are simply arithmetic.\n",
    "\n",
    "the predicted value is just the intercept plus the slope times the explanatory variable.\n",
    "\n",
    "response = intercept + slope * explanatory"
   ]
  },
  {
   "cell_type": "markdown",
   "metadata": {},
   "source": [
    "**TODO**\n",
    "* Get the coefficients of mdl_price_vs_conv, assigning to coeffs.\n",
    "* Get the intercept, which is the first element of coeffs, assigning to intercept.\n",
    "* Get the slope, which is the second element of coeffs, assigning to slope.\n",
    "* Manually predict price_twd_msq using the intercept, slope, and explanatory_data.\n",
    "* Run the code to compare your manually calculated predictions to the results from .predict().\n",
    "\n",
    "**Fill in the code below**"
   ]
  },
  {
   "cell_type": "code",
   "execution_count": 24,
   "metadata": {},
   "outputs": [
    {
     "name": "stdout",
     "output_type": "stream",
     "text": [
      "0      16.205035\n",
      "1      15.406955\n",
      "2      12.214636\n",
      "3      12.214636\n",
      "4      12.214636\n",
      "         ...    \n",
      "409     8.224237\n",
      "410    15.406955\n",
      "411    13.810795\n",
      "412    12.214636\n",
      "413    15.406955\n",
      "Name: n_convenience, Length: 414, dtype: float64\n",
      "0      16.205035\n",
      "1      15.406955\n",
      "2      12.214636\n",
      "3      12.214636\n",
      "4      12.214636\n",
      "         ...    \n",
      "409     8.224237\n",
      "410    15.406955\n",
      "411    13.810795\n",
      "412    12.214636\n",
      "413    15.406955\n",
      "Length: 414, dtype: float64\n"
     ]
    }
   ],
   "source": [
    "# Solution\n",
    "# Get the coefficients of mdl_price_vs_conv\n",
    "coeffs = mdl_price_vs_conv.params\n",
    "\n",
    "# Get the intercept\n",
    "intercept = coeffs[0]\n",
    "\n",
    "# Get the slope\n",
    "slope = coeffs[1]\n",
    "\n",
    "# Manually calculate the predictions\n",
    "price_twd_msq = intercept + slope * explanatory_data\n",
    "print(price_twd_msq)\n",
    "\n",
    "# Compare to the results from .predict()\n",
    "predictions_auto=mdl_price_vs_conv.predict(explanatory_data)\n",
    "print(predictions_auto)"
   ]
  },
  {
   "cell_type": "code",
   "execution_count": 25,
   "metadata": {},
   "outputs": [
    {
     "data": {
      "text/plain": [
       "0      16.205035\n",
       "1      15.406955\n",
       "2      12.214636\n",
       "3      12.214636\n",
       "4      12.214636\n",
       "         ...    \n",
       "409     8.224237\n",
       "410    15.406955\n",
       "411    13.810795\n",
       "412    12.214636\n",
       "413    15.406955\n",
       "Length: 414, dtype: float64"
      ]
     },
     "execution_count": 25,
     "metadata": {},
     "output_type": "execute_result"
    }
   ],
   "source": [
    "predictions_auto"
   ]
  },
  {
   "cell_type": "code",
   "execution_count": 26,
   "metadata": {},
   "outputs": [
    {
     "data": {
      "text/plain": [
       "0    16.205035\n",
       "1    15.406955\n",
       "2    12.214636\n",
       "3    12.214636\n",
       "4    12.214636\n",
       "Name: n_convenience, dtype: float64"
      ]
     },
     "execution_count": 26,
     "metadata": {},
     "output_type": "execute_result"
    }
   ],
   "source": [
    "price_twd_msq.head()"
   ]
  },
  {
   "cell_type": "markdown",
   "metadata": {},
   "source": [
    "### Model fit"
   ]
  },
  {
   "cell_type": "code",
   "execution_count": 27,
   "metadata": {
    "scrolled": true
   },
   "outputs": [
    {
     "name": "stdout",
     "output_type": "stream",
     "text": [
      "                            OLS Regression Results                            \n",
      "==============================================================================\n",
      "Dep. Variable:          price_twd_msq   R-squared:                       0.326\n",
      "Model:                            OLS   Adj. R-squared:                  0.324\n",
      "Method:                 Least Squares   F-statistic:                     199.3\n",
      "Date:                Tue, 16 Feb 2021   Prob (F-statistic):           3.41e-37\n",
      "Time:                        09:56:51   Log-Likelihood:                -1091.1\n",
      "No. Observations:                 414   AIC:                             2186.\n",
      "Df Residuals:                     412   BIC:                             2194.\n",
      "Df Model:                           1                                         \n",
      "Covariance Type:            nonrobust                                         \n",
      "=================================================================================\n",
      "                    coef    std err          t      P>|t|      [0.025      0.975]\n",
      "---------------------------------------------------------------------------------\n",
      "Intercept         8.2242      0.285     28.857      0.000       7.664       8.784\n",
      "n_convenience     0.7981      0.057     14.118      0.000       0.687       0.909\n",
      "==============================================================================\n",
      "Omnibus:                      171.927   Durbin-Watson:                   1.993\n",
      "Prob(Omnibus):                  0.000   Jarque-Bera (JB):             1417.242\n",
      "Skew:                           1.553   Prob(JB):                    1.78e-308\n",
      "Kurtosis:                      11.516   Cond. No.                         8.87\n",
      "==============================================================================\n",
      "\n",
      "Notes:\n",
      "[1] Standard Errors assume that the covariance matrix of the errors is correctly specified.\n"
     ]
    }
   ],
   "source": [
    "# summary of the model\n",
    "print(mdl_price_vs_conv.summary())"
   ]
  },
  {
   "cell_type": "markdown",
   "metadata": {},
   "source": [
    "**Finding the coefficient of determination**"
   ]
  },
  {
   "cell_type": "code",
   "execution_count": 28,
   "metadata": {},
   "outputs": [
    {
     "name": "stdout",
     "output_type": "stream",
     "text": [
      "0.32604660851305045\n"
     ]
    }
   ],
   "source": [
    "# r-squared attribute\n",
    "print(mdl_price_vs_conv.rsquared)"
   ]
  },
  {
   "cell_type": "markdown",
   "metadata": {},
   "source": [
    "**Finding the Residual standard error**"
   ]
  },
  {
   "cell_type": "code",
   "execution_count": 29,
   "metadata": {},
   "outputs": [
    {
     "name": "stdout",
     "output_type": "stream",
     "text": [
      "3.383887521343046\n"
     ]
    }
   ],
   "source": [
    "# calculating the RSE\n",
    "\n",
    "#first extract the mse and then take square root.\n",
    "mse = mdl_price_vs_conv.mse_resid\n",
    "\n",
    "rse = np.sqrt(mse)\n",
    "print(rse) #rse has the same unit as the response variable."
   ]
  },
  {
   "cell_type": "markdown",
   "metadata": {},
   "source": [
    "# Exercise\n",
    "\n",
    "Practice with Reddit data. The first two bullets are solved for you\n",
    "\n",
    "* Load the reddit data you had used in a previous lab 'reddit_2007_author.csv'\n",
    "* Inspect the data \n",
    "* come up with a research question that you can answer with regression modeling. E.g.: predicting num_subs based on karma. *Hint: check the columns of the data-frame to see what all is available and what could be serve as a good question*\n",
    "* Build a linear regression model with a choice of a response variable and explanatory variables to answer your question."
   ]
  },
  {
   "cell_type": "code",
   "execution_count": 31,
   "metadata": {},
   "outputs": [],
   "source": [
    "df = pd.read_csv(\"reddit_2007_author.csv\", header=0)"
   ]
  },
  {
   "cell_type": "code",
   "execution_count": 35,
   "metadata": {},
   "outputs": [
    {
     "data": {
      "text/html": [
       "<div>\n",
       "<style scoped>\n",
       "    .dataframe tbody tr th:only-of-type {\n",
       "        vertical-align: middle;\n",
       "    }\n",
       "\n",
       "    .dataframe tbody tr th {\n",
       "        vertical-align: top;\n",
       "    }\n",
       "\n",
       "    .dataframe thead th {\n",
       "        text-align: right;\n",
       "    }\n",
       "</style>\n",
       "<table border=\"1\" class=\"dataframe\">\n",
       "  <thead>\n",
       "    <tr style=\"text-align: right;\">\n",
       "      <th></th>\n",
       "      <th>author</th>\n",
       "      <th>num_comments</th>\n",
       "      <th>num_subs</th>\n",
       "      <th>karma</th>\n",
       "      <th>controv</th>\n",
       "      <th>gild</th>\n",
       "      <th>verbosity</th>\n",
       "    </tr>\n",
       "  </thead>\n",
       "  <tbody>\n",
       "    <tr>\n",
       "      <th>63653</th>\n",
       "      <td>triumphantbike</td>\n",
       "      <td>13</td>\n",
       "      <td>3</td>\n",
       "      <td>60</td>\n",
       "      <td>0</td>\n",
       "      <td>0</td>\n",
       "      <td>500.692308</td>\n",
       "    </tr>\n",
       "    <tr>\n",
       "      <th>63654</th>\n",
       "      <td>woadwarrior</td>\n",
       "      <td>13</td>\n",
       "      <td>1</td>\n",
       "      <td>51</td>\n",
       "      <td>0</td>\n",
       "      <td>0</td>\n",
       "      <td>190.923077</td>\n",
       "    </tr>\n",
       "    <tr>\n",
       "      <th>63655</th>\n",
       "      <td>mikemike</td>\n",
       "      <td>13</td>\n",
       "      <td>2</td>\n",
       "      <td>97</td>\n",
       "      <td>0</td>\n",
       "      <td>0</td>\n",
       "      <td>607.307692</td>\n",
       "    </tr>\n",
       "    <tr>\n",
       "      <th>63656</th>\n",
       "      <td>cdub</td>\n",
       "      <td>13</td>\n",
       "      <td>4</td>\n",
       "      <td>205</td>\n",
       "      <td>0</td>\n",
       "      <td>0</td>\n",
       "      <td>245.307692</td>\n",
       "    </tr>\n",
       "    <tr>\n",
       "      <th>63657</th>\n",
       "      <td>Squarsh</td>\n",
       "      <td>13</td>\n",
       "      <td>1</td>\n",
       "      <td>311</td>\n",
       "      <td>0</td>\n",
       "      <td>0</td>\n",
       "      <td>196.461538</td>\n",
       "    </tr>\n",
       "  </tbody>\n",
       "</table>\n",
       "</div>"
      ],
      "text/plain": [
       "               author  num_comments  num_subs  karma  controv  gild  \\\n",
       "63653  triumphantbike            13         3     60        0     0   \n",
       "63654     woadwarrior            13         1     51        0     0   \n",
       "63655        mikemike            13         2     97        0     0   \n",
       "63656            cdub            13         4    205        0     0   \n",
       "63657         Squarsh            13         1    311        0     0   \n",
       "\n",
       "        verbosity  \n",
       "63653  500.692308  \n",
       "63654  190.923077  \n",
       "63655  607.307692  \n",
       "63656  245.307692  \n",
       "63657  196.461538  "
      ]
     },
     "execution_count": 35,
     "metadata": {},
     "output_type": "execute_result"
    }
   ],
   "source": [
    "df.tail()"
   ]
  },
  {
   "cell_type": "code",
   "execution_count": 33,
   "metadata": {},
   "outputs": [
    {
     "name": "stdout",
     "output_type": "stream",
     "text": [
      "Intercept    8.280155\n",
      "controv      9.565098\n",
      "dtype: float64\n"
     ]
    }
   ],
   "source": [
    "# Create the model object\n",
    "mdl_numofc_vs_contr = ols(\"num_comments ~ controv\", data=df)\n",
    "\n",
    "# Fit the model\n",
    "mdl_numofc_vs_contr = mdl_numofc_vs_contr.fit()\n",
    "\n",
    "# Extract and Print the parameters of the fitted model\n",
    "print(mdl_numofc_vs_contr.params)"
   ]
  },
  {
   "cell_type": "code",
   "execution_count": 34,
   "metadata": {},
   "outputs": [
    {
     "name": "stdout",
     "output_type": "stream",
     "text": [
      "0        916.964459\n",
      "1        180.451918\n",
      "2          8.280155\n",
      "3         27.410351\n",
      "4        476.969954\n",
      "            ...    \n",
      "63653      8.280155\n",
      "63654      8.280155\n",
      "63655      8.280155\n",
      "63656      8.280155\n",
      "63657      8.280155\n",
      "Length: 63658, dtype: float64\n"
     ]
    }
   ],
   "source": [
    "print(mdl_numofc_vs_contr.fittedvalues)"
   ]
  },
  {
   "cell_type": "code",
   "execution_count": 37,
   "metadata": {},
   "outputs": [
    {
     "data": {
      "text/plain": [
       "(63658, 7)"
      ]
     },
     "execution_count": 37,
     "metadata": {},
     "output_type": "execute_result"
    }
   ],
   "source": [
    "df.shape"
   ]
  },
  {
   "cell_type": "code",
   "execution_count": 38,
   "metadata": {},
   "outputs": [
    {
     "name": "stdout",
     "output_type": "stream",
     "text": [
      "0        916.964459\n",
      "1        180.451918\n",
      "2          8.280155\n",
      "3         27.410351\n",
      "4        476.969954\n",
      "            ...    \n",
      "63653      8.280155\n",
      "63654      8.280155\n",
      "63655      8.280155\n",
      "63656      8.280155\n",
      "63657      8.280155\n",
      "Length: 63658, dtype: float64\n"
     ]
    }
   ],
   "source": [
    "explanatory_data = df[\"controv\"]\n",
    "print(mdl_numofc_vs_contr.predict(explanatory_data))"
   ]
  },
  {
   "cell_type": "code",
   "execution_count": 39,
   "metadata": {},
   "outputs": [
    {
     "name": "stdout",
     "output_type": "stream",
     "text": [
      "0        275.035541\n",
      "1        162.548082\n",
      "2         34.719845\n",
      "3        110.589649\n",
      "4        381.030046\n",
      "            ...    \n",
      "63653      4.719845\n",
      "63654      4.719845\n",
      "63655      4.719845\n",
      "63656      4.719845\n",
      "63657      4.719845\n",
      "Length: 63658, dtype: float64\n"
     ]
    }
   ],
   "source": [
    "print(mdl_numofc_vs_contr.resid)"
   ]
  },
  {
   "cell_type": "code",
   "execution_count": 40,
   "metadata": {},
   "outputs": [
    {
     "name": "stdout",
     "output_type": "stream",
     "text": [
      "                            OLS Regression Results                            \n",
      "==============================================================================\n",
      "Dep. Variable:           num_comments   R-squared:                       0.713\n",
      "Model:                            OLS   Adj. R-squared:                  0.713\n",
      "Method:                 Least Squares   F-statistic:                 1.584e+05\n",
      "Date:                Tue, 16 Feb 2021   Prob (F-statistic):               0.00\n",
      "Time:                        10:07:36   Log-Likelihood:            -3.5146e+05\n",
      "No. Observations:               63658   AIC:                         7.029e+05\n",
      "Df Residuals:                   63656   BIC:                         7.029e+05\n",
      "Df Model:                           1                                         \n",
      "Covariance Type:            nonrobust                                         \n",
      "==============================================================================\n",
      "                 coef    std err          t      P>|t|      [0.025      0.975]\n",
      "------------------------------------------------------------------------------\n",
      "Intercept      8.2802      0.241     34.355      0.000       7.808       8.753\n",
      "controv        9.5651      0.024    397.934      0.000       9.518       9.612\n",
      "==============================================================================\n",
      "Omnibus:                    43956.000   Durbin-Watson:                   1.678\n",
      "Prob(Omnibus):                  0.000   Jarque-Bera (JB):       1579565934.804\n",
      "Skew:                           1.307   Prob(JB):                         0.00\n",
      "Kurtosis:                     774.695   Cond. No.                         10.1\n",
      "==============================================================================\n",
      "\n",
      "Notes:\n",
      "[1] Standard Errors assume that the covariance matrix of the errors is correctly specified.\n"
     ]
    }
   ],
   "source": [
    "# Inspect the results\n",
    "print(mdl_numofc_vs_contr.summary())"
   ]
  },
  {
   "cell_type": "code",
   "execution_count": 41,
   "metadata": {},
   "outputs": [
    {
     "name": "stdout",
     "output_type": "stream",
     "text": [
      "0.7132713273877116\n"
     ]
    }
   ],
   "source": [
    "# r-squared attribute\n",
    "print(mdl_numofc_vs_contr.rsquared)"
   ]
  },
  {
   "cell_type": "code",
   "execution_count": 42,
   "metadata": {},
   "outputs": [
    {
     "name": "stdout",
     "output_type": "stream",
     "text": [
      "60.46714468470785\n"
     ]
    }
   ],
   "source": [
    "# calculating the RSE\n",
    "\n",
    "#first extract the mse and then take square root.\n",
    "mse = mdl_numofc_vs_contr.mse_resid\n",
    "\n",
    "rse = np.sqrt(mse)\n",
    "print(rse) #rse has the same unit as the response variable."
   ]
  },
  {
   "cell_type": "code",
   "execution_count": null,
   "metadata": {},
   "outputs": [],
   "source": []
  }
 ],
 "metadata": {
  "kernelspec": {
   "display_name": "Python 3",
   "language": "python",
   "name": "python3"
  },
  "language_info": {
   "codemirror_mode": {
    "name": "ipython",
    "version": 3
   },
   "file_extension": ".py",
   "mimetype": "text/x-python",
   "name": "python",
   "nbconvert_exporter": "python",
   "pygments_lexer": "ipython3",
   "version": "3.8.5"
  }
 },
 "nbformat": 4,
 "nbformat_minor": 4
}
